{
 "cells": [
  {
   "cell_type": "markdown",
   "metadata": {},
   "source": [
    "# Digit Recognizer"
   ]
  },
  {
   "cell_type": "markdown",
   "metadata": {},
   "source": [
    "Reference: \n",
    "- https://pythondata.com/comparing-machine-learning-methods/\n",
    "- http://yann.lecun.com/exdb/mnist/ (accuracy of various models on the dataset)\n",
    "\n"
   ]
  },
  {
   "cell_type": "code",
   "execution_count": 14,
   "metadata": {},
   "outputs": [],
   "source": [
    "# Importing libraries for data manipulation\n",
    "import numpy as np\n",
    "import pandas as pd\n",
    "\n",
    "# Importing libraries for plotting\n",
    "import matplotlib.pyplot as plt\n",
    "import seaborn as sns\n",
    "\n",
    "# Importing library for time manipulation\n",
    "from datetime import datetime\n",
    "\n",
    "# Suppressing warnings\n",
    "import warnings\n",
    "warnings.filterwarnings(\"ignore\")\n",
    "\n",
    "# Importing librararies for data pre-processing\n",
    "from sklearn.model_selection import train_test_split\n",
    "\n",
    "# Importing libraries for machine learning (without neural network)\n",
    "from sklearn import model_selection\n",
    "from sklearn.linear_model import LogisticRegression\n",
    "from sklearn.svm import SVC\n",
    "# from sklearn.tree import DecisionTreeClassifier\n",
    "from sklearn.ensemble import RandomForestClassifier\n",
    "from sklearn.naive_bayes import GaussianNB\n",
    "from sklearn.discriminant_analysis import LinearDiscriminantAnalysis\n",
    "from sklearn.neighbors import KNeighborsClassifier\n",
    "\n",
    "# Importing libraries for deep learning (CNN)\n",
    "# from keras.models import Sequential\n",
    "# from keras.layers import Dense, Activation\n",
    "\n",
    "# Importing libraries for evaluation\n",
    "from sklearn import metrics\n"
   ]
  },
  {
   "cell_type": "code",
   "execution_count": 15,
   "metadata": {},
   "outputs": [],
   "source": [
    "FILEPATH_train = 'C:\\\\Users\\\\sameer.rai\\\\Desktop\\\\Jupyter Notebooks\\\\Digit Recognizer\\\\Data\\\\train.csv'\n",
    "FILEPATH_test = 'C:\\\\Users\\\\sameer.rai\\\\Desktop\\\\Jupyter Notebooks\\\\Digit Recognizer\\\\Data\\\\test.csv'"
   ]
  },
  {
   "cell_type": "code",
   "execution_count": 16,
   "metadata": {},
   "outputs": [],
   "source": [
    "train_data = pd.read_csv(FILEPATH_train)"
   ]
  },
  {
   "cell_type": "code",
   "execution_count": 17,
   "metadata": {},
   "outputs": [
    {
     "data": {
      "text/plain": [
       "(42000, 785)"
      ]
     },
     "execution_count": 17,
     "metadata": {},
     "output_type": "execute_result"
    }
   ],
   "source": [
    "train_data.shape"
   ]
  },
  {
   "cell_type": "code",
   "execution_count": 18,
   "metadata": {},
   "outputs": [],
   "source": [
    "# Extracting features and labels\n",
    "X = train_data.iloc[:, 1:].values\n",
    "y = train_data.iloc[:, 0].values"
   ]
  },
  {
   "cell_type": "code",
   "execution_count": 19,
   "metadata": {},
   "outputs": [],
   "source": [
    "# Reshaping the array for plotting\n",
    "X_reshaped = np.reshape(X, (42000,28,28))"
   ]
  },
  {
   "cell_type": "markdown",
   "metadata": {},
   "source": [
    "#### Data understanding"
   ]
  },
  {
   "cell_type": "code",
   "execution_count": 20,
   "metadata": {},
   "outputs": [
    {
     "data": {
      "image/png": "[encoded data removed]",
      "text/plain": [
       "<Figure size 432x288 with 1 Axes>"
      ]
     },
     "metadata": {
      "needs_background": "light"
     },
     "output_type": "display_data"
    }
   ],
   "source": [
    "# Plotting sample inputs\n",
    "plt.imshow(X_reshaped[5000])\n",
    "plt.show()"
   ]
  },
  {
   "cell_type": "code",
   "execution_count": 21,
   "metadata": {},
   "outputs": [],
   "source": [
    "# Dividing the dataset into training and cv set using pandas\n",
    "# train_set = train_data.sample(frac = 0.2, random_state = 0.0)\n",
    "# cv_set = train_data.drop(train_set.index)\n"
   ]
  },
  {
   "cell_type": "markdown",
   "metadata": {},
   "source": [
    "### Data preparation for modelling"
   ]
  },
  {
   "cell_type": "code",
   "execution_count": 22,
   "metadata": {},
   "outputs": [],
   "source": [
    "# Extracting features and lables for traning dataset\n",
    "X = train_data.iloc[:, 1:].values\n",
    "y = train_data.iloc[:, 0].values\n",
    "\n",
    "# Dividing the dataset into training and cv set using much better method, sklearn train_test_split\n",
    "X_train, X_test, y_train, y_test = train_test_split(X, y, train_size = 0.8, random_state = 10)\n",
    "\n",
    "# Scaling X_train and X_cv\n",
    "X_train = X_train/255\n",
    "X_test = X_test/255"
   ]
  },
  {
   "cell_type": "markdown",
   "metadata": {},
   "source": [
    "### Modelling"
   ]
  },
  {
   "cell_type": "code",
   "execution_count": 23,
   "metadata": {},
   "outputs": [
    {
     "name": "stdout",
     "output_type": "stream",
     "text": [
      "{'Logistic Regression': array([0.91762082, 0.91922047, 0.9130823 , 0.91528956, 0.91439631])}\n",
      "{'Logistic Regression': datetime.timedelta(seconds=176, microseconds=382536)}\n",
      "{'Logistic Regression': array([0.91762082, 0.91922047, 0.9130823 , 0.91528956, 0.91439631]), 'Random Forest': array([0.93457249, 0.93722107, 0.93183509, 0.93121929, 0.92943278])}\n",
      "{'Logistic Regression': datetime.timedelta(seconds=176, microseconds=382536), 'Random Forest': datetime.timedelta(seconds=9, microseconds=472137)}\n",
      "{'Logistic Regression': array([0.91762082, 0.91922047, 0.9130823 , 0.91528956, 0.91439631]), 'Random Forest': array([0.93457249, 0.93722107, 0.93183509, 0.93121929, 0.92943278]), 'Support Vector': array([0.9729368 , 0.97426361, 0.97380563, 0.97156469, 0.97067143])}\n",
      "{'Logistic Regression': datetime.timedelta(seconds=176, microseconds=382536), 'Random Forest': datetime.timedelta(seconds=9, microseconds=472137), 'Support Vector': datetime.timedelta(seconds=890, microseconds=981092)}\n",
      "{'Logistic Regression': array([0.91762082, 0.91922047, 0.9130823 , 0.91528956, 0.91439631]), 'Random Forest': array([0.93457249, 0.93722107, 0.93183509, 0.93121929, 0.92943278]), 'Support Vector': array([0.9729368 , 0.97426361, 0.97380563, 0.97156469, 0.97067143]), 'Linear Discriminator': array([0.86245353, 0.8673014 , 0.86381902, 0.86452285, 0.85603692])}\n",
      "{'Logistic Regression': datetime.timedelta(seconds=176, microseconds=382536), 'Random Forest': datetime.timedelta(seconds=9, microseconds=472137), 'Support Vector': datetime.timedelta(seconds=890, microseconds=981092), 'Linear Discriminator': datetime.timedelta(seconds=23, microseconds=195650)}\n",
      "{'Logistic Regression': array([0.91762082, 0.91922047, 0.9130823 , 0.91528956, 0.91439631]), 'Random Forest': array([0.93457249, 0.93722107, 0.93183509, 0.93121929, 0.92943278]), 'Support Vector': array([0.9729368 , 0.97426361, 0.97380563, 0.97156469, 0.97067143]), 'Linear Discriminator': array([0.86245353, 0.8673014 , 0.86381902, 0.86452285, 0.85603692]), 'Gaussian NB': array([0.53828996, 0.56887831, 0.55796994, 0.54845913, 0.54697037])}\n",
      "{'Logistic Regression': datetime.timedelta(seconds=176, microseconds=382536), 'Random Forest': datetime.timedelta(seconds=9, microseconds=472137), 'Support Vector': datetime.timedelta(seconds=890, microseconds=981092), 'Linear Discriminator': datetime.timedelta(seconds=23, microseconds=195650), 'Gaussian NB': datetime.timedelta(seconds=7, microseconds=600961)}\n",
      "{'Logistic Regression': array([0.91762082, 0.91922047, 0.9130823 , 0.91528956, 0.91439631]), 'Random Forest': array([0.93457249, 0.93722107, 0.93183509, 0.93121929, 0.92943278]), 'Support Vector': array([0.9729368 , 0.97426361, 0.97380563, 0.97156469, 0.97067143]), 'Linear Discriminator': array([0.86245353, 0.8673014 , 0.86381902, 0.86452285, 0.85603692]), 'Gaussian NB': array([0.53828996, 0.56887831, 0.55796994, 0.54845913, 0.54697037]), 'K-neighbours': array([0.96550186, 0.9648914 , 0.96398274, 0.96069674, 0.96025011])}\n",
      "{'Logistic Regression': datetime.timedelta(seconds=176, microseconds=382536), 'Random Forest': datetime.timedelta(seconds=9, microseconds=472137), 'Support Vector': datetime.timedelta(seconds=890, microseconds=981092), 'Linear Discriminator': datetime.timedelta(seconds=23, microseconds=195650), 'Gaussian NB': datetime.timedelta(seconds=7, microseconds=600961), 'K-neighbours': datetime.timedelta(seconds=1175, microseconds=950308)}\n",
      "                             0         1         2         3         4\n",
      "Logistic Regression   0.917621  0.919220  0.913082  0.915290  0.914396\n",
      "Random Forest         0.934572  0.937221  0.931835  0.931219  0.929433\n",
      "Support Vector        0.972937  0.974264  0.973806  0.971565  0.970671\n",
      "Linear Discriminator  0.862454  0.867301  0.863819  0.864523  0.856037\n",
      "Gaussian NB           0.538290  0.568878  0.557970  0.548459  0.546970\n",
      "K-neighbours          0.965502  0.964891  0.963983  0.960697  0.960250\n",
      "                                   0\n",
      "Logistic Regression  00:02:56.382536\n",
      "Random Forest        00:00:09.472137\n",
      "Support Vector       00:14:50.981092\n",
      "Linear Discriminator 00:00:23.195650\n",
      "Gaussian NB          00:00:07.600961\n",
      "K-neighbours         00:19:35.950308\n"
     ]
    }
   ],
   "source": [
    "models = {\n",
    "    'Logistic Regression': LogisticRegression(solver = 'newton-cg', multi_class = 'multinomial'),\n",
    "    'Random Forest' : RandomForestClassifier(),\n",
    "    'Support Vector' : SVC(gamma='scale'),\n",
    "    'Linear Discriminator' : LinearDiscriminantAnalysis(),\n",
    "    'Gaussian NB' : GaussianNB(),\n",
    "    'K-neighbours': KNeighborsClassifier()\n",
    "}\n",
    "\n",
    "Evaulation_result = {}\n",
    "time = {}\n",
    "\n",
    "# Iterating through all the models and using sklearn.model_selection.cross_val_score\n",
    "for name, model in models.items():\n",
    "    start_time = datetime.now()\n",
    "    results = model_selection.cross_val_score(estimator = model, X = X_train, y = y_train, cv = 5, scoring = 'accuracy' )\n",
    "    end_time = datetime.now()\n",
    "    time_taken = end_time - start_time\n",
    "    time.update({name:time_taken})\n",
    "    Evaulation_result.update({name : results})\n",
    "    print(Evaulation_result)\n",
    "    print(time)\n",
    "    \n",
    "# print(Evaulation_result)\n",
    "\n",
    "evaluation_result = pd.DataFrame.from_dict(Evaulation_result, orient='index')\n",
    "Time = pd.DataFrame.from_dict(time, orient='index')\n",
    "print(evaluation_result)\n",
    "print(Time)\n",
    "\n"
   ]
  },
  {
   "cell_type": "code",
   "execution_count": 24,
   "metadata": {},
   "outputs": [
    {
     "data": {
      "image/png": "[encoded data removed]",
      "text/plain": [
       "<Figure size 432x288 with 1 Axes>"
      ]
     },
     "metadata": {
      "needs_background": "light"
     },
     "output_type": "display_data"
    }
   ],
   "source": [
    "plt.boxplot(evaluation_result)\n",
    "plt.show()"
   ]
  },
  {
   "cell_type": "markdown",
   "metadata": {},
   "source": [
    "### <font color='Blue'>Next steps ??<font>\n",
    "    - May be, Grid Search\n",
    "    https://scikit-learn.org/stable/modules/generated/sklearn.model_selection.GridSearchCV.html"
   ]
  },
  {
   "cell_type": "markdown",
   "metadata": {},
   "source": [
    "### Traditional Machine learning models"
   ]
  },
  {
   "cell_type": "markdown",
   "metadata": {},
   "source": [
    "#### K-nearest neighbour"
   ]
  },
  {
   "cell_type": "code",
   "execution_count": 25,
   "metadata": {},
   "outputs": [
    {
     "data": {
      "text/plain": [
       "'\\nknn_obj = KNeighborsClassifier(n_neighbors = 10)\\nknn_obj.fit(X = X_train, y = y_train)\\n'"
      ]
     },
     "execution_count": 25,
     "metadata": {},
     "output_type": "execute_result"
    }
   ],
   "source": [
    "'''\n",
    "knn_obj = KNeighborsClassifier(n_neighbors = 10)\n",
    "knn_obj.fit(X = X_train, y = y_train)\n",
    "'''"
   ]
  },
  {
   "cell_type": "code",
   "execution_count": 26,
   "metadata": {},
   "outputs": [
    {
     "data": {
      "text/plain": [
       "'\\ny_train_pred_knn = knn_obj.predict(X_train)\\ny_test_pred_knn = knn_obj.predict(X_test)\\n\\nprint(\"Accuracy on training set for knn model: {}.\".format(metrics.accuracy_score(y_train, y_train_pred_knn)))\\nprint(\"Accuracy on test set for knn model: {}.\".format(metrics.accuracy_score(y_test, y_test_pred_knn)))\\n\\n'"
      ]
     },
     "execution_count": 26,
     "metadata": {},
     "output_type": "execute_result"
    }
   ],
   "source": [
    "'''\n",
    "y_train_pred_knn = knn_obj.predict(X_train)\n",
    "y_test_pred_knn = knn_obj.predict(X_test)\n",
    "\n",
    "print(\"Accuracy on training set for knn model: {}.\".format(metrics.accuracy_score(y_train, y_train_pred_knn)))\n",
    "print(\"Accuracy on test set for knn model: {}.\".format(metrics.accuracy_score(y_test, y_test_pred_knn)))\n",
    "\n",
    "'''"
   ]
  },
  {
   "cell_type": "markdown",
   "metadata": {},
   "source": [
    "#### Logistic regression"
   ]
  },
  {
   "cell_type": "code",
   "execution_count": 27,
   "metadata": {},
   "outputs": [
    {
     "data": {
      "text/plain": [
       "LogisticRegression(C=1.0, class_weight=None, dual=False, fit_intercept=True,\n",
       "                   intercept_scaling=1, l1_ratio=None, max_iter=100,\n",
       "                   multi_class='multinomial', n_jobs=None, penalty='l2',\n",
       "                   random_state=None, solver='newton-cg', tol=0.0001, verbose=0,\n",
       "                   warm_start=False)"
      ]
     },
     "execution_count": 27,
     "metadata": {},
     "output_type": "execute_result"
    }
   ],
   "source": [
    "lr_obj = LogisticRegression(solver = 'newton-cg', multi_class = 'multinomial')\n",
    "lr_obj.fit(X = X_train, y = y_train)"
   ]
  },
  {
   "cell_type": "code",
   "execution_count": 28,
   "metadata": {},
   "outputs": [],
   "source": [
    "y_pred = lr_obj.predict(X_train)"
   ]
  },
  {
   "cell_type": "code",
   "execution_count": 29,
   "metadata": {},
   "outputs": [
    {
     "data": {
      "text/plain": [
       "array([[3281,    0,    5,    3,    4,   12,   13,    3,   13,    2],\n",
       "       [   0, 3672,    8,   12,    0,    9,    4,    5,   22,    6],\n",
       "       [   9,   17, 3087,   40,   27,   14,   22,   32,   57,   16],\n",
       "       [   3,   10,   57, 3226,    1,   95,    8,   19,   51,   25],\n",
       "       [   2,   14,   11,    2, 3086,    2,   22,    7,   16,   84],\n",
       "       [  26,   10,   22,   90,   29, 2735,   34,    6,   53,   17],\n",
       "       [  18,    5,   13,    0,   11,   26, 3266,    0,   10,    1],\n",
       "       [   1,   11,   29,   10,   14,    3,    2, 3366,    6,   90],\n",
       "       [  14,   42,   17,   74,    8,   60,    9,    7, 2962,   34],\n",
       "       [  10,   13,    7,   34,   60,   18,    0,   76,   17, 3098]],\n",
       "      dtype=int64)"
      ]
     },
     "execution_count": 29,
     "metadata": {},
     "output_type": "execute_result"
    }
   ],
   "source": [
    "metrics.confusion_matrix(y_train, y_pred)\n"
   ]
  },
  {
   "cell_type": "code",
   "execution_count": 30,
   "metadata": {},
   "outputs": [
    {
     "name": "stdout",
     "output_type": "stream",
     "text": [
      "Accuracy on training set for lr model: 0.9458035714285714.\n",
      "Accuracy on test set for lr model: 0.9186904761904762.\n"
     ]
    }
   ],
   "source": [
    "y_train_pred_lr = lr_obj.predict(X_train)\n",
    "y_test_pred_lr = lr_obj.predict(X_test)\n",
    "\n",
    "print(\"Accuracy on training set for lr model: {}.\".format(metrics.accuracy_score(y_train, y_train_pred_lr)))\n",
    "print(\"Accuracy on test set for lr model: {}.\".format(metrics.accuracy_score(y_test, y_test_pred_lr)))"
   ]
  },
  {
   "cell_type": "markdown",
   "metadata": {},
   "source": [
    "#### Support vector"
   ]
  },
  {
   "cell_type": "code",
   "execution_count": 31,
   "metadata": {},
   "outputs": [
    {
     "data": {
      "text/plain": [
       "SVC(C=1.0, cache_size=200, class_weight=None, coef0=0.0,\n",
       "    decision_function_shape='ovr', degree=3, gamma='scale', kernel='rbf',\n",
       "    max_iter=-1, probability=False, random_state=None, shrinking=True,\n",
       "    tol=0.001, verbose=False)"
      ]
     },
     "execution_count": 31,
     "metadata": {},
     "output_type": "execute_result"
    }
   ],
   "source": [
    "# Creating object and fitting training dataset\n",
    "svc_obj = SVC(gamma='scale')\n",
    "svc_obj.fit(X_train, y_train)"
   ]
  },
  {
   "cell_type": "code",
   "execution_count": 32,
   "metadata": {},
   "outputs": [
    {
     "name": "stdout",
     "output_type": "stream",
     "text": [
      "[[3324    0    1    1    2    1    3    0    3    1]\n",
      " [   0 3719    7    4    1    1    0    2    2    2]\n",
      " [   2    1 3294    5    5    0    0    7    5    2]\n",
      " [   0    1   13 3430    0   19    1    9   11   11]\n",
      " [   2    5    0    0 3206    0    3    3    0   27]\n",
      " [   4    2    1   15    3 2983    8    1    2    3]\n",
      " [   4    0    1    0    2    5 3334    0    4    0]\n",
      " [   2   14    7    3    8    0    0 3479    0   19]\n",
      " [   1    8    7    7    4    3    1    4 3190    2]\n",
      " [   7    4    1   11   24    2    1   21    4 3258]]\n",
      "Accuracy on training set for SVC model: 0.9886011904761904.\n",
      "Accuracy on test set for SVC model: 0.9757142857142858.\n"
     ]
    }
   ],
   "source": [
    "# Evaluation of SVC: Accuracy and confusion matrix \n",
    "# y_pred_svc = svc_obj.predict(X_train)\n",
    "\n",
    "y_train_pred_svc = svc_obj.predict(X_train)\n",
    "y_test_pred_svc = svc_obj.predict(X_test)\n",
    "\n",
    "print(metrics.confusion_matrix(y_train, y_train_pred_svc))\n",
    "\n",
    "print(\"Accuracy on training set for SVC model: {}.\".format(metrics.accuracy_score(y_train, y_train_pred_svc)))\n",
    "print(\"Accuracy on test set for SVC model: {}.\".format(metrics.accuracy_score(y_test, y_test_pred_svc)))"
   ]
  },
  {
   "cell_type": "code",
   "execution_count": 33,
   "metadata": {},
   "outputs": [
    {
     "name": "stdout",
     "output_type": "stream",
     "text": [
      "              precision    recall  f1-score   support\n",
      "\n",
      "           0       0.99      1.00      0.99      3336\n",
      "           1       0.99      0.99      0.99      3738\n",
      "           2       0.99      0.99      0.99      3321\n",
      "           3       0.99      0.98      0.98      3495\n",
      "           4       0.98      0.99      0.99      3246\n",
      "           5       0.99      0.99      0.99      3022\n",
      "           6       0.99      1.00      1.00      3350\n",
      "           7       0.99      0.98      0.99      3532\n",
      "           8       0.99      0.99      0.99      3227\n",
      "           9       0.98      0.98      0.98      3333\n",
      "\n",
      "    accuracy                           0.99     33600\n",
      "   macro avg       0.99      0.99      0.99     33600\n",
      "weighted avg       0.99      0.99      0.99     33600\n",
      "\n"
     ]
    }
   ],
   "source": [
    "# Evaluation of SVC: Classification report\n",
    "print(metrics.classification_report(y_train, y_train_pred_svc))"
   ]
  },
  {
   "cell_type": "code",
   "execution_count": null,
   "metadata": {},
   "outputs": [],
   "source": []
  }
 ],
 "metadata": {
  "kernelspec": {
   "display_name": "Python 3",
   "language": "python",
   "name": "python3"
  },
  "language_info": {
   "codemirror_mode": {
    "name": "ipython",
    "version": 3
   },
   "file_extension": ".py",
   "mimetype": "text/x-python",
   "name": "python",
   "nbconvert_exporter": "python",
   "pygments_lexer": "ipython3",
   "version": "3.7.3"
  }
 },
 "nbformat": 4,
 "nbformat_minor": 4
}
